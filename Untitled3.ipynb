{
 "cells": [
  {
   "cell_type": "code",
   "execution_count": 1,
   "id": "a9775ee3",
   "metadata": {},
   "outputs": [
    {
     "data": {
      "text/plain": [
       "'\\nPython script that imports all the data necessary and\\n    creates the refined databases within data/processed\\n'"
      ]
     },
     "execution_count": 1,
     "metadata": {},
     "output_type": "execute_result"
    }
   ],
   "source": [
    "import numpy as np\n",
    "import pandas as pd\n",
    "import geopandas \n",
    "import matplotlib as plt\n",
    "import json\n",
    "from pathlib import Path\n",
    "from shapely.geometry import Point, Polygon\n",
    "from shapely.ops import nearest_points\n",
    "\n",
    "\n",
    "# custom lib\n",
    "import Data_Acquirer as DA\n",
    "import Data_shaping as sh\n",
    "\n",
    "\n",
    "# Per usare multi cartelle (cookiecutter)\n",
    "import sys\n",
    "\n",
    "sys.path.append('./../src')\n",
    "\n",
    "import make_dataset as m_d\n",
    "\n",
    "\"\"\"\n",
    "Python script that imports all the data necessary and\n",
    "    creates the refined databases within data/processed\n",
    "\"\"\"\n"
   ]
  },
  {
   "cell_type": "code",
   "execution_count": 2,
   "id": "abeebc7c",
   "metadata": {},
   "outputs": [
    {
     "name": "stdout",
     "output_type": "stream",
     "text": [
      "SafeImport_Output:   Index(['cellId', 'geometry'], dtype='object')\n"
     ]
    }
   ],
   "source": [
    "################# IMPORT #####################\n",
    "## Grid\n",
    "grid=m_d.safe_import(\"grid\")\n",
    "grid = grid.dissolve()\n"
   ]
  },
  {
   "cell_type": "code",
   "execution_count": 3,
   "id": "cec58748",
   "metadata": {},
   "outputs": [],
   "source": [
    "## Non da' problemi, poi dovrò mergiarlo\n",
    "\"\"\"\n",
    "I manually create a grid in Geopandas to visualize the stations\n",
    "\"\"\"\n",
    "\n",
    "temp0 = pd.DataFrame({'Stazione': [\"Trento Via Bolzano\", \"Ala A22\",\"Piana Rotaliana\",\"Trento Santa Chiara\", \"Borgo Valsugana\", \"Riva\",\"Monte Gazza\" ],\n",
    "     'Latitude': [46.105203, 45.752930, 46.228491, 46.063372, 46.053536, 45.884969, 46.083194],\n",
    "     'Longitude': [11.109609, 10.990463, 11.131387, 11.126240, 11.456231, 10.837531, 10.990770]\n",
    "     })\n",
    "gdf = geopandas.GeoDataFrame(\n",
    "    temp0, geometry=geopandas.points_from_xy(temp0.Longitude, temp0.Latitude))\n"
   ]
  },
  {
   "cell_type": "code",
   "execution_count": 4,
   "id": "e7258ebe",
   "metadata": {},
   "outputs": [
    {
     "data": {
      "text/plain": [
       "<AxesSubplot:>"
      ]
     },
     "execution_count": 4,
     "metadata": {},
     "output_type": "execute_result"
    },
    {
     "data": {
      "image/png": "[encoded data removed]",
      "text/plain": [
       "<Figure size 432x288 with 1 Axes>"
      ]
     },
     "metadata": {
      "needs_background": "light"
     },
     "output_type": "display_data"
    }
   ],
   "source": [
    "base = grid.plot(color='white', edgecolor='black')\n",
    "# We can now plot our ``GeoDataFrame``.\n",
    "gdf.plot(ax=base, color='red')"
   ]
  },
  {
   "cell_type": "code",
   "execution_count": 5,
   "id": "8fb97288",
   "metadata": {},
   "outputs": [
    {
     "name": "stdout",
     "output_type": "stream",
     "text": [
      "The columns of the data set are:  Index(['Stazione', 'Inquinante', 'Data', 'Ora', 'Valore', 'Unità di misura'], dtype='object')\n",
      "The columns of the data set are:  Index(['Stazione', 'Inquinante', 'Data', 'Ora', 'Valore', 'Unità di misura'], dtype='object')\n",
      "The columns of the data set are:  Index(['Stazione', 'Inquinante', 'Data', 'Ora', 'Valore', 'Unità di misura'], dtype='object')\n",
      "The columns of the data set are:  Index(['Stazione', 'Inquinante', 'Data', 'Ora', 'Valore', 'Unità di misura'], dtype='object')\n",
      "The columns of the data set are:  Index(['Stazione', 'Inquinante', 'Data', 'Ora', 'Valore', 'Unità di misura'], dtype='object')\n",
      "The columns of the data set are:  Index(['Stazione', 'Inquinante', 'Data', 'Ora', 'Valore', 'Unità di misura'], dtype='object')\n",
      "The columns of the data set are:  Index(['Stazione', 'Inquinante', 'Data', 'Ora', 'Valore', 'Unità di misura'], dtype='object')\n",
      "The columns of the data set are:  Index(['Stazione', 'Inquinante', 'Data', 'Ora', 'Valore', 'Unità di misura'], dtype='object')\n",
      "The columns of the data set are:  Index(['Stazione', 'Inquinante', 'Data', 'Ora', 'Valore', 'Unità di misura'], dtype='object')\n",
      "The columns of the data set are:  Index(['Stazione', 'Inquinante', 'Data', 'Ora', 'Valore', 'Unità di misura'], dtype='object')\n",
      "The columns of the data set are:  Index(['Stazione', 'Inquinante', 'Data', 'Ora', 'Valore', 'Unità di misura'], dtype='object')\n",
      "The columns of the data set are:  Index(['Stazione', 'Inquinante', 'Data', 'Ora', 'Valore', 'Unità di misura'], dtype='object')\n",
      "The columns of the data set are:  Index(['Stazione', 'Inquinante', 'Data', 'Ora', 'Valore', 'Unità di misura'], dtype='object')\n",
      "The columns of the data set are:  Index(['Stazione', 'Inquinante', 'Data', 'Ora', 'Valore', 'Unità di misura'], dtype='object')\n",
      "The columns of the data set are:  Index(['Stazione', 'Inquinante', 'Data', 'Ora', 'Valore', 'Unità di misura'], dtype='object')\n",
      "The columns of the dataset are:  Index(['Stazione', 'Inquinante', 'Data', 'Ora', 'Valore', 'Unità di misura'], dtype='object')\n"
     ]
    }
   ],
   "source": [
    "#path pollutants is yet in the library make_datasets.py\n",
    "listPol = m_d.list_in_directory('path_pollutants')\n",
    "# I acquire data from disaggregated datasets and merge them togheter \n",
    "col_pol = ['Stazione', 'Inquinante', 'Data', 'Ora', 'Valore', 'Unità di misura']\n",
    "df_pol = pd.DataFrame(columns = col_pol)\n",
    "for i in listPol:\n",
    "    df_pol = df_pol.append(DA.acquirer(r\"C:\\Users\\beltr\\PycharmProjects\\Tesi\\data\\raw\\Inquinanti\\\\\" + i),\n",
    "                  ignore_index=True)\n",
    "print(\"The columns of the dataset are: \", df_pol.columns)"
   ]
  },
  {
   "cell_type": "code",
   "execution_count": 6,
   "id": "13e6364b",
   "metadata": {},
   "outputs": [
    {
     "data": {
      "text/html": [
       "<div>\n",
       "<style scoped>\n",
       "    .dataframe tbody tr th:only-of-type {\n",
       "        vertical-align: middle;\n",
       "    }\n",
       "\n",
       "    .dataframe tbody tr th {\n",
       "        vertical-align: top;\n",
       "    }\n",
       "\n",
       "    .dataframe thead th {\n",
       "        text-align: right;\n",
       "    }\n",
       "</style>\n",
       "<table border=\"1\" class=\"dataframe\">\n",
       "  <thead>\n",
       "    <tr style=\"text-align: right;\">\n",
       "      <th></th>\n",
       "      <th>Stazione</th>\n",
       "      <th>Inquinante</th>\n",
       "      <th>Data</th>\n",
       "      <th>Ora</th>\n",
       "      <th>Valore</th>\n",
       "      <th>Unità di misura</th>\n",
       "    </tr>\n",
       "  </thead>\n",
       "  <tbody>\n",
       "    <tr>\n",
       "      <th>0</th>\n",
       "      <td>Parco S. Chiara</td>\n",
       "      <td>PM10</td>\n",
       "      <td>2021-03-10</td>\n",
       "      <td>1</td>\n",
       "      <td>26</td>\n",
       "      <td>µg/mc</td>\n",
       "    </tr>\n",
       "    <tr>\n",
       "      <th>1</th>\n",
       "      <td>Parco S. Chiara</td>\n",
       "      <td>PM10</td>\n",
       "      <td>2021-03-10</td>\n",
       "      <td>2</td>\n",
       "      <td>24</td>\n",
       "      <td>µg/mc</td>\n",
       "    </tr>\n",
       "    <tr>\n",
       "      <th>2</th>\n",
       "      <td>Parco S. Chiara</td>\n",
       "      <td>PM10</td>\n",
       "      <td>2021-03-10</td>\n",
       "      <td>3</td>\n",
       "      <td>20</td>\n",
       "      <td>µg/mc</td>\n",
       "    </tr>\n",
       "    <tr>\n",
       "      <th>3</th>\n",
       "      <td>Parco S. Chiara</td>\n",
       "      <td>PM10</td>\n",
       "      <td>2021-03-10</td>\n",
       "      <td>4</td>\n",
       "      <td>17</td>\n",
       "      <td>µg/mc</td>\n",
       "    </tr>\n",
       "    <tr>\n",
       "      <th>4</th>\n",
       "      <td>Parco S. Chiara</td>\n",
       "      <td>PM10</td>\n",
       "      <td>2021-03-10</td>\n",
       "      <td>5</td>\n",
       "      <td>13</td>\n",
       "      <td>µg/mc</td>\n",
       "    </tr>\n",
       "    <tr>\n",
       "      <th>...</th>\n",
       "      <td>...</td>\n",
       "      <td>...</td>\n",
       "      <td>...</td>\n",
       "      <td>...</td>\n",
       "      <td>...</td>\n",
       "      <td>...</td>\n",
       "    </tr>\n",
       "    <tr>\n",
       "      <th>728250</th>\n",
       "      <td>Monte Gaza</td>\n",
       "      <td>Ozono</td>\n",
       "      <td>2018-06-20</td>\n",
       "      <td>20</td>\n",
       "      <td>145.0</td>\n",
       "      <td>µg/mc</td>\n",
       "    </tr>\n",
       "    <tr>\n",
       "      <th>728251</th>\n",
       "      <td>Monte Gaza</td>\n",
       "      <td>Ozono</td>\n",
       "      <td>2018-06-20</td>\n",
       "      <td>21</td>\n",
       "      <td>147.0</td>\n",
       "      <td>µg/mc</td>\n",
       "    </tr>\n",
       "    <tr>\n",
       "      <th>728252</th>\n",
       "      <td>Monte Gaza</td>\n",
       "      <td>Ozono</td>\n",
       "      <td>2018-06-20</td>\n",
       "      <td>22</td>\n",
       "      <td>149.0</td>\n",
       "      <td>µg/mc</td>\n",
       "    </tr>\n",
       "    <tr>\n",
       "      <th>728253</th>\n",
       "      <td>Monte Gaza</td>\n",
       "      <td>Ozono</td>\n",
       "      <td>2018-06-20</td>\n",
       "      <td>23</td>\n",
       "      <td>144.0</td>\n",
       "      <td>µg/mc</td>\n",
       "    </tr>\n",
       "    <tr>\n",
       "      <th>728254</th>\n",
       "      <td>Monte Gaza</td>\n",
       "      <td>Ozono</td>\n",
       "      <td>2018-06-20</td>\n",
       "      <td>24</td>\n",
       "      <td>142.0</td>\n",
       "      <td>µg/mc</td>\n",
       "    </tr>\n",
       "  </tbody>\n",
       "</table>\n",
       "<p>728255 rows × 6 columns</p>\n",
       "</div>"
      ],
      "text/plain": [
       "               Stazione Inquinante        Data Ora Valore Unità di misura\n",
       "0       Parco S. Chiara       PM10  2021-03-10   1     26           µg/mc\n",
       "1       Parco S. Chiara       PM10  2021-03-10   2     24           µg/mc\n",
       "2       Parco S. Chiara       PM10  2021-03-10   3     20           µg/mc\n",
       "3       Parco S. Chiara       PM10  2021-03-10   4     17           µg/mc\n",
       "4       Parco S. Chiara       PM10  2021-03-10   5     13           µg/mc\n",
       "...                 ...        ...         ...  ..    ...             ...\n",
       "728250       Monte Gaza      Ozono  2018-06-20  20  145.0           µg/mc\n",
       "728251       Monte Gaza      Ozono  2018-06-20  21  147.0           µg/mc\n",
       "728252       Monte Gaza      Ozono  2018-06-20  22  149.0           µg/mc\n",
       "728253       Monte Gaza      Ozono  2018-06-20  23  144.0           µg/mc\n",
       "728254       Monte Gaza      Ozono  2018-06-20  24  142.0           µg/mc\n",
       "\n",
       "[728255 rows x 6 columns]"
      ]
     },
     "execution_count": 6,
     "metadata": {},
     "output_type": "execute_result"
    }
   ],
   "source": [
    "df_pol"
   ]
  },
  {
   "cell_type": "code",
   "execution_count": 7,
   "id": "3500c763",
   "metadata": {},
   "outputs": [
    {
     "name": "stderr",
     "output_type": "stream",
     "text": [
      "C:\\Users\\beltr\\anaconda3\\envs\\Tesi\\lib\\site-packages\\pandas\\core\\frame.py:4901: SettingWithCopyWarning: \n",
      "A value is trying to be set on a copy of a slice from a DataFrame\n",
      "\n",
      "See the caveats in the documentation: https://pandas.pydata.org/pandas-docs/stable/user_guide/indexing.html#returning-a-view-versus-a-copy\n",
      "  return super().drop(\n"
     ]
    }
   ],
   "source": [
    "# I clean those data\n",
    "df_pol[\"Valore\"] = pd.to_numeric(df_pol['Valore'], errors='coerce')\n",
    "df_pol = df_pol.dropna()\n",
    "\"\"\"NOTA: 25 records were not available and are not represented\"\"\"\n",
    "# I normalize the units of measurments for concentrations\n",
    "# I subdivide the stations\n",
    "stat_pol, stat_names = sh.Station_Classifier(df_pol)"
   ]
  },
  {
   "cell_type": "code",
   "execution_count": 8,
   "id": "ef99e490",
   "metadata": {},
   "outputs": [],
   "source": [
    "for col in stat_names:\n",
    "    m_d.UM_Normalizer(stat_pol[col])"
   ]
  },
  {
   "cell_type": "code",
   "execution_count": 9,
   "id": "60b37678",
   "metadata": {},
   "outputs": [
    {
     "name": "stderr",
     "output_type": "stream",
     "text": [
      "C:\\Users\\beltr\\AppData\\Local\\Temp/ipykernel_6092/1133121414.py:2: SettingWithCopyWarning: \n",
      "A value is trying to be set on a copy of a slice from a DataFrame.\n",
      "Try using .loc[row_indexer,col_indexer] = value instead\n",
      "\n",
      "See the caveats in the documentation: https://pandas.pydata.org/pandas-docs/stable/user_guide/indexing.html#returning-a-view-versus-a-copy\n",
      "  stat_pol[i][\"Inquinante\"] = m_d.pollutants_acronym(stat_pol[i][\"Inquinante\"])\n"
     ]
    }
   ],
   "source": [
    "for i in stat_names:\n",
    "    stat_pol[i][\"Inquinante\"] = m_d.pollutants_acronym(stat_pol[i][\"Inquinante\"])"
   ]
  },
  {
   "cell_type": "code",
   "execution_count": null,
   "id": "b2fbff1b",
   "metadata": {},
   "outputs": [],
   "source": []
  },
  {
   "cell_type": "code",
   "execution_count": 10,
   "id": "b10ed8be",
   "metadata": {},
   "outputs": [
    {
     "name": "stderr",
     "output_type": "stream",
     "text": [
      "C:\\Users\\beltr\\AppData\\Local\\Temp/ipykernel_6092/1892239714.py:3: SettingWithCopyWarning: \n",
      "A value is trying to be set on a copy of a slice from a DataFrame.\n",
      "Try using .loc[row_indexer,col_indexer] = value instead\n",
      "\n",
      "See the caveats in the documentation: https://pandas.pydata.org/pandas-docs/stable/user_guide/indexing.html#returning-a-view-versus-a-copy\n",
      "  stat_pol[i][\"Day\"]=[int(st[8:10]) for st in temp]\n",
      "C:\\Users\\beltr\\AppData\\Local\\Temp/ipykernel_6092/1892239714.py:4: SettingWithCopyWarning: \n",
      "A value is trying to be set on a copy of a slice from a DataFrame.\n",
      "Try using .loc[row_indexer,col_indexer] = value instead\n",
      "\n",
      "See the caveats in the documentation: https://pandas.pydata.org/pandas-docs/stable/user_guide/indexing.html#returning-a-view-versus-a-copy\n",
      "  stat_pol[i][\"Month\"]=[int(st[5:7]) for st in temp]\n",
      "C:\\Users\\beltr\\AppData\\Local\\Temp/ipykernel_6092/1892239714.py:5: SettingWithCopyWarning: \n",
      "A value is trying to be set on a copy of a slice from a DataFrame.\n",
      "Try using .loc[row_indexer,col_indexer] = value instead\n",
      "\n",
      "See the caveats in the documentation: https://pandas.pydata.org/pandas-docs/stable/user_guide/indexing.html#returning-a-view-versus-a-copy\n",
      "  stat_pol[i][\"Year\"]=[int(st[0:4]) for st in temp]\n"
     ]
    }
   ],
   "source": [
    "for i in stat_names:\n",
    "    temp=list(stat_pol[i][\"Data\"])   \n",
    "    stat_pol[i][\"Day\"]=[int(st[8:10]) for st in temp]\n",
    "    stat_pol[i][\"Month\"]=[int(st[5:7]) for st in temp]\n",
    "    stat_pol[i][\"Year\"]=[int(st[0:4]) for st in temp]\n",
    "    stat_pol[i].drop(columns=\"Data\", inplace=True)"
   ]
  },
  {
   "cell_type": "code",
   "execution_count": 29,
   "id": "f2af6024",
   "metadata": {},
   "outputs": [
    {
     "name": "stderr",
     "output_type": "stream",
     "text": [
      "C:\\Users\\beltr\\anaconda3\\envs\\Tesi\\lib\\site-packages\\pandas\\util\\_decorators.py:311: SettingWithCopyWarning: \n",
      "A value is trying to be set on a copy of a slice from a DataFrame\n",
      "\n",
      "See the caveats in the documentation: https://pandas.pydata.org/pandas-docs/stable/user_guide/indexing.html#returning-a-view-versus-a-copy\n",
      "  return func(*args, **kwargs)\n",
      "C:\\Users\\beltr\\anaconda3\\envs\\Tesi\\lib\\site-packages\\pandas\\util\\_decorators.py:311: SettingWithCopyWarning: \n",
      "A value is trying to be set on a copy of a slice from a DataFrame\n",
      "\n",
      "See the caveats in the documentation: https://pandas.pydata.org/pandas-docs/stable/user_guide/indexing.html#returning-a-view-versus-a-copy\n",
      "  return func(*args, **kwargs)\n",
      "C:\\Users\\beltr\\anaconda3\\envs\\Tesi\\lib\\site-packages\\pandas\\util\\_decorators.py:311: SettingWithCopyWarning: \n",
      "A value is trying to be set on a copy of a slice from a DataFrame\n",
      "\n",
      "See the caveats in the documentation: https://pandas.pydata.org/pandas-docs/stable/user_guide/indexing.html#returning-a-view-versus-a-copy\n",
      "  return func(*args, **kwargs)\n",
      "C:\\Users\\beltr\\anaconda3\\envs\\Tesi\\lib\\site-packages\\pandas\\util\\_decorators.py:311: SettingWithCopyWarning: \n",
      "A value is trying to be set on a copy of a slice from a DataFrame\n",
      "\n",
      "See the caveats in the documentation: https://pandas.pydata.org/pandas-docs/stable/user_guide/indexing.html#returning-a-view-versus-a-copy\n",
      "  return func(*args, **kwargs)\n",
      "C:\\Users\\beltr\\anaconda3\\envs\\Tesi\\lib\\site-packages\\pandas\\util\\_decorators.py:311: SettingWithCopyWarning: \n",
      "A value is trying to be set on a copy of a slice from a DataFrame\n",
      "\n",
      "See the caveats in the documentation: https://pandas.pydata.org/pandas-docs/stable/user_guide/indexing.html#returning-a-view-versus-a-copy\n",
      "  return func(*args, **kwargs)\n",
      "C:\\Users\\beltr\\anaconda3\\envs\\Tesi\\lib\\site-packages\\pandas\\util\\_decorators.py:311: SettingWithCopyWarning: \n",
      "A value is trying to be set on a copy of a slice from a DataFrame\n",
      "\n",
      "See the caveats in the documentation: https://pandas.pydata.org/pandas-docs/stable/user_guide/indexing.html#returning-a-view-versus-a-copy\n",
      "  return func(*args, **kwargs)\n",
      "C:\\Users\\beltr\\anaconda3\\envs\\Tesi\\lib\\site-packages\\pandas\\util\\_decorators.py:311: SettingWithCopyWarning: \n",
      "A value is trying to be set on a copy of a slice from a DataFrame\n",
      "\n",
      "See the caveats in the documentation: https://pandas.pydata.org/pandas-docs/stable/user_guide/indexing.html#returning-a-view-versus-a-copy\n",
      "  return func(*args, **kwargs)\n",
      "C:\\Users\\beltr\\anaconda3\\envs\\Tesi\\lib\\site-packages\\pandas\\util\\_decorators.py:311: SettingWithCopyWarning: \n",
      "A value is trying to be set on a copy of a slice from a DataFrame\n",
      "\n",
      "See the caveats in the documentation: https://pandas.pydata.org/pandas-docs/stable/user_guide/indexing.html#returning-a-view-versus-a-copy\n",
      "  return func(*args, **kwargs)\n"
     ]
    },
    {
     "name": "stdout",
     "output_type": "stream",
     "text": [
      "Parco S. Chiara\n",
      "       Inquinante Ora  Valore  Day  Month  Year\n",
      "707720      PM2_5   1    11.0   20      5  2018\n",
      "708486        NO2   1    22.0   20      5  2018\n",
      "709242         O3   1    30.0   20      5  2018\n",
      "706954       PM10   1    14.0   20      5  2018\n",
      "710006        SO2   1     1.0   20      5  2018\n",
      "...           ...  ..     ...  ...    ...   ...\n",
      "5152          NO2  24    15.0   20      5  2021\n",
      "6852           O3  24    67.0   20      5  2021\n",
      "1723         PM10  24     9.0   20      5  2021\n",
      "3447        PM2_5  24     5.0   20      5  2021\n",
      "8554          SO2  24     2.0   20      5  2021\n",
      "\n",
      "[131955 rows x 6 columns]\n",
      "Via Bolzano\n",
      "       Inquinante Ora  Valore  Day  Month  Year\n",
      "712300         CO   1     0.4   20      5  2018\n",
      "710771       PM10   1    14.0   20      5  2018\n",
      "711537        NO2   1    14.0   20      5  2018\n",
      "710772       PM10   2    15.0   20      5  2018\n",
      "712301         CO   2     0.4   20      5  2018\n",
      "...           ...  ..     ...  ...    ...   ...\n",
      "13642          CO  23     0.6   20      5  2021\n",
      "10273        PM10  23    11.0   20      5  2021\n",
      "11992         NO2  24    27.0   20      5  2021\n",
      "13643          CO  24     0.6   20      5  2021\n",
      "10274        PM10  24    12.0   20      5  2021\n",
      "\n",
      "[79074 rows x 6 columns]\n",
      "Piana Rotaliana\n",
      "       Inquinante Ora  Valore  Day  Month  Year\n",
      "713830        NO2   1    18.0   20      5  2018\n",
      "713063       PM10   1     9.0   20      5  2018\n",
      "714590         O3   1    51.0   20      5  2018\n",
      "713831        NO2   2    14.0   20      5  2018\n",
      "713064       PM10   2    10.0   20      5  2018\n",
      "...           ...  ..     ...  ...    ...   ...\n",
      "18754          O3  23    56.0   20      5  2021\n",
      "15363        PM10  23     8.0   20      5  2021\n",
      "17080         NO2  24     9.0   20      5  2021\n",
      "18755          O3  24    52.0   20      5  2021\n",
      "15364        PM10  24     6.0   20      5  2021\n",
      "\n",
      "[76831 rows x 6 columns]\n",
      "Rovereto\n",
      "       Inquinante Ora  Valore  Day  Month  Year\n",
      "715350       PM10   1    11.0   20      5  2018\n",
      "717650         O3   1    43.0   20      5  2018\n",
      "716118      PM2_5   1     7.0   20      5  2018\n",
      "716886        NO2   1     8.0   20      5  2018\n",
      "715351       PM10   2    11.0   20      5  2018\n",
      "...           ...  ..     ...  ...    ...   ...\n",
      "20467        PM10  23     2.0   20      5  2021\n",
      "25514          O3  24    79.0   20      5  2021\n",
      "22093       PM2_5  24     0.0   20      5  2021\n",
      "23803         NO2  24     6.0   20      5  2021\n",
      "20468        PM10  24     2.0   20      5  2021\n",
      "\n",
      "[104215 rows x 6 columns]\n",
      "Borgo Valsugana\n",
      "       Inquinante Ora  Valore  Day  Month  Year\n",
      "719182      PM2_5   1    11.0   20      5  2018\n",
      "719949        NO2   1    10.0   20      5  2018\n",
      "720712         O3   1    18.0   20      5  2018\n",
      "718415       PM10   1    16.0   20      5  2018\n",
      "719183      PM2_5   2    11.0   20      5  2018\n",
      "...           ...  ..     ...  ...    ...   ...\n",
      "28938       PM2_5  23     4.0   20      5  2021\n",
      "32375          O3  24    61.0   20      5  2021\n",
      "27226        PM10  24     8.0   20      5  2021\n",
      "30657         NO2  24     6.0   20      5  2021\n",
      "28939       PM2_5  24     3.0   20      5  2021\n",
      "\n",
      "[104698 rows x 6 columns]\n",
      "Riva del Garda\n",
      "       Inquinante Ora  Valore  Day  Month  Year\n",
      "723003         O3   1    41.0   20      5  2018\n",
      "721477       PM10   1    11.0   20      5  2018\n",
      "722242        NO2   1    14.0   20      5  2018\n",
      "723004         O3   2    39.0   20      5  2018\n",
      "721478       PM10   2     9.0   20      5  2018\n",
      "...           ...  ..     ...  ...    ...   ...\n",
      "34023        PM10  23     9.0   20      5  2021\n",
      "35740         NO2  23    20.0   20      5  2021\n",
      "37456          O3  24    57.0   20      5  2021\n",
      "34024        PM10  24    10.0   20      5  2021\n",
      "35741         NO2  24    17.0   20      5  2021\n",
      "\n",
      "[79021 rows x 6 columns]\n",
      "A22 Avio\n",
      "       Inquinante Ora  Valore  Day  Month  Year\n",
      "725238         CO   1     0.5   20      5  2018\n",
      "724516        NO2   1    23.0   20      5  2018\n",
      "723768       PM10   1     8.0   20      5  2018\n",
      "725239         CO   2     0.5   20      5  2018\n",
      "724517        NO2   2    17.0   20      5  2018\n",
      "...           ...  ..     ...  ...    ...   ...\n",
      "42583          CO  23     0.6   20      5  2021\n",
      "40888         NO2  23    64.0   20      5  2021\n",
      "39174        PM10  24    11.0   20      5  2021\n",
      "42584          CO  24     0.5   20      5  2021\n",
      "40889         NO2  24    59.0   20      5  2021\n",
      "\n",
      "[73085 rows x 6 columns]\n",
      "Monte Gaza\n",
      "       Inquinante Ora  Valore  Day  Month  Year\n",
      "726729        NO2   1     3.0   20      5  2018\n",
      "727491         O3   1   110.0   20      5  2018\n",
      "725981       PM10   1     5.0   20      5  2018\n",
      "726730        NO2   2     3.0   20      5  2018\n",
      "727492         O3   2   110.0   20      5  2018\n",
      "...           ...  ..     ...  ...    ...   ...\n",
      "46034         NO2  23     5.0   20      5  2021\n",
      "47757          O3  23   112.0   20      5  2021\n",
      "44309        PM10  24     7.0   20      5  2021\n",
      "46035         NO2  24     5.0   20      5  2021\n",
      "47758          O3  24   110.0   20      5  2021\n",
      "\n",
      "[79351 rows x 6 columns]\n"
     ]
    }
   ],
   "source": [
    "for i in stat_names:\n",
    "    stat_pol[i].sort_values(by=[\"Year\",\"Month\",\"Day\",\"Ora\"], \n",
    "                            ascending = [True, True, True,True], \n",
    "                            inplace=True)\n",
    "    print(i)\n",
    "    print(stat_pol[i])"
   ]
  },
  {
   "cell_type": "code",
   "execution_count": 12,
   "id": "00e6b6c5",
   "metadata": {},
   "outputs": [],
   "source": [
    "#variables_meteo are labels present in a dictionary in the lib make_datasets.py\n",
    "listMet_stations = m_d.list_in_directory('path_meteo')\n",
    "#variables_meteo = ['rain','speed','humidity','radiation','direction','pressure','temperature']\n",
    "#df_meteo = {}\n",
    "#for i in listMet_stations:\n",
    "#    path_stations = Path('data/raw/Meteo/' + i)\n",
    "#    df_meteo[i] = pd.DataFrame()\n",
    "#    for j in variables_meteo:\n",
    "#        temp = m_d.Aquirer_meteo(path_stations, j)\n",
    "#        #temp.drop(temp)\n",
    "#        if (df_meteo[i].empty): df_meteo[i] = temp\n",
    "#        else: df_meteo[i] = df_meteo[i].merge(temp, on=\"Date\")    "
   ]
  },
  {
   "cell_type": "code",
   "execution_count": 13,
   "id": "1708611e",
   "metadata": {},
   "outputs": [],
   "source": [
    "##for i in listMet_stations:\n",
    "#    df_meteo[i].dropna(inplace=True)"
   ]
  },
  {
   "cell_type": "code",
   "execution_count": 14,
   "id": "cf6a7661",
   "metadata": {},
   "outputs": [],
   "source": [
    "##non mancano dati a questo DF -> BUONO!\n",
    "#for i in listMet_stations:\n",
    "#    print(df_meteo[i].isnull().any(axis = 1).sum())"
   ]
  },
  {
   "cell_type": "code",
   "execution_count": 15,
   "id": "601bd368",
   "metadata": {},
   "outputs": [],
   "source": [
    "#for j in [17520,17521, 17522, 17523, 17524]:\n",
    "#    print(df_meteo[\"Ala\"].loc[j,:])"
   ]
  },
  {
   "cell_type": "code",
   "execution_count": 16,
   "id": "566e3c74",
   "metadata": {},
   "outputs": [],
   "source": [
    "## aggiorna l'indice per droppare le mezzore\n",
    "#\n",
    "#for i in listMet_stations:\n",
    "#    # i need to\n",
    "#    counter = 0\n",
    "#    temp=list(df_meteo[i][\"Date\"])\n",
    "#    num_records = len(df_meteo[i][\"Date\"])\n",
    "#    for st in temp:\n",
    "#        if((st[3:5]) != \"00\"):\n",
    "#            df_meteo[i].drop(index=counter,inplace=True, axis=0)\n",
    "#            print(st)\n",
    "#        if (counter  < num_records): \n",
    "#            counter = counter + 1\n",
    "#        else: counter=0\n",
    "#print(\"Ho finito\")"
   ]
  },
  {
   "cell_type": "code",
   "execution_count": 17,
   "id": "13932816",
   "metadata": {},
   "outputs": [],
   "source": [
    "#for i in listMet_stations:\n",
    "#    temp2 = i + '_final.csv'\n",
    "#    df_meteo[i].to_csv(m_d.data_path_out / temp2,index=False)\n",
    "#"
   ]
  },
  {
   "cell_type": "code",
   "execution_count": 18,
   "id": "e1ab7238",
   "metadata": {},
   "outputs": [],
   "source": [
    "#counter = 0\n",
    "\n"
   ]
  },
  {
   "cell_type": "code",
   "execution_count": 20,
   "id": "4beb92d2",
   "metadata": {},
   "outputs": [],
   "source": [
    "# it takes a while to perform that, therefore, i import already processed data\n",
    "df_meteo = {}\n",
    "for i in listMet_stations:\n",
    "    path = r\"C:\\Users\\beltr\\PycharmProjects\\Tesi\\data\\processed\\\\\" + i + \"_final.csv\"\n",
    "    df_meteo[i] = pd.read_csv(path)\n"
   ]
  },
  {
   "cell_type": "code",
   "execution_count": 21,
   "id": "04f87666",
   "metadata": {},
   "outputs": [
    {
     "name": "stdout",
     "output_type": "stream",
     "text": [
      "       Pioggia mm  Qual_x  Vel. Vento m/s  Qual_y  Umidita' aria %  Qual_x.1  \\\n",
      "0             0.0       1             0.3   145.0             96.0     145.0   \n",
      "1             0.0       1             0.2   145.0             97.0     145.0   \n",
      "2             0.0       1             0.1   145.0             99.0     145.0   \n",
      "3             0.0       1             0.1   145.0             99.0     145.0   \n",
      "4             0.0       1             0.2   145.0             99.0     145.0   \n",
      "...           ...     ...             ...     ...              ...       ...   \n",
      "26334         0.0       1             0.1   145.0             69.0     145.0   \n",
      "26335         0.0       1             1.2   145.0             69.0     145.0   \n",
      "26336         0.0       1             0.0   145.0             75.0     145.0   \n",
      "26337         0.0       1             0.2   145.0             76.0     145.0   \n",
      "26338         0.0       1             0.2   145.0             76.0     145.0   \n",
      "\n",
      "       Rad.Sol.Tot. kJ/m2  Qual_y.1  Dir. Vento Â°  Qual_x.2  \\\n",
      "0                     0.0     145.0           42.0     145.0   \n",
      "1                     0.0     145.0           68.0     145.0   \n",
      "2                     0.0     145.0           52.0     145.0   \n",
      "3                     0.0     145.0           64.0     145.0   \n",
      "4                     0.0     145.0           12.0     145.0   \n",
      "...                   ...       ...            ...       ...   \n",
      "26334                 0.0     145.0            0.0     145.0   \n",
      "26335                 0.0     145.0          341.0     145.0   \n",
      "26336                 0.0     145.0            0.0     145.0   \n",
      "26337                 0.0     145.0           73.0     145.0   \n",
      "26338                 0.0     145.0           27.0     145.0   \n",
      "\n",
      "       Pressione atm. hPa  Qual_y.2  Temp. aria °C  Qual  Hours  Day  Month  \\\n",
      "0                   938.3       1.0           10.2   1.0      0   20      5   \n",
      "1                   938.3       1.0           10.0   1.0      1   20      5   \n",
      "2                   938.1       1.0            9.9   1.0      2   20      5   \n",
      "3                   938.0       1.0            9.7   1.0      3   20      5   \n",
      "4                   937.8       1.0            9.9   1.0      4   20      5   \n",
      "...                   ...       ...            ...   ...    ...  ...    ...   \n",
      "26334               933.4       1.0            9.8   1.0     20   19      5   \n",
      "26335               934.5       1.0            9.7   1.0     21   19      5   \n",
      "26336               935.0       1.0            8.5   1.0     22   19      5   \n",
      "26337               935.5       1.0            8.5   1.0     23   19      5   \n",
      "26338               935.7       1.0            8.0   1.0      0   20      5   \n",
      "\n",
      "       Year  \n",
      "0       201  \n",
      "1       201  \n",
      "2       201  \n",
      "3       201  \n",
      "4       201  \n",
      "...     ...  \n",
      "26334   202  \n",
      "26335   202  \n",
      "26336   202  \n",
      "26337   202  \n",
      "26338   202  \n",
      "\n",
      "[26339 rows x 18 columns]\n"
     ]
    }
   ],
   "source": [
    "print(df_meteo[\"Ala\"])"
   ]
  },
  {
   "cell_type": "code",
   "execution_count": null,
   "id": "0bebf93a",
   "metadata": {},
   "outputs": [],
   "source": []
  }
 ],
 "metadata": {
  "kernelspec": {
   "display_name": "Python 3 (ipykernel)",
   "language": "python",
   "name": "python3"
  },
  "language_info": {
   "codemirror_mode": {
    "name": "ipython",
    "version": 3
   },
   "file_extension": ".py",
   "mimetype": "text/x-python",
   "name": "python",
   "nbconvert_exporter": "python",
   "pygments_lexer": "ipython3",
   "version": "3.8.10"
  }
 },
 "nbformat": 4,
 "nbformat_minor": 5
}
