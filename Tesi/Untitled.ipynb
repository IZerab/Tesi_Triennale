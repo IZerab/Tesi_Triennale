{
 "cells": [
  {
   "cell_type": "code",
   "execution_count": 1,
   "id": "0dee1bdc",
   "metadata": {},
   "outputs": [],
   "source": [
    "# standard lib\n",
    "import numpy as np\n",
    "import pandas as pd\n",
    "import seaborn as sns\n",
    "from sklearn.model_selection import train_test_split\n",
    "from pandas_profiling import ProfileReport\n",
    "# custom lib\n",
    "import Data_shaping as sh\n",
    "from Data_Aquirer import Aquirer\n",
    "from threshold import air_cataloguer\n",
    "######"
   ]
  },
  {
   "cell_type": "code",
   "execution_count": 2,
   "id": "e5bd63fc",
   "metadata": {},
   "outputs": [
    {
     "name": "stderr",
     "output_type": "stream",
     "text": [
      "C:\\Users\\beltr\\PycharmProjects\\Tesi\\Data_Aquirer.py:9: FutureWarning: The default value of regex will change from True to False in a future version.\n",
      "  data.columns = data.columns.str.replace('[()]', '')\n"
     ]
    },
    {
     "name": "stdout",
     "output_type": "stream",
     "text": [
      "The columns of the data set are:  Index(['Stazione', 'Inquinante', 'Data', 'Ora', 'Valore', 'Unità di misura'], dtype='object')\n"
     ]
    },
    {
     "name": "stderr",
     "output_type": "stream",
     "text": [
      "C:\\Users\\beltr\\anaconda3\\envs\\Tesi\\lib\\site-packages\\pandas\\core\\frame.py:4308: SettingWithCopyWarning: \n",
      "A value is trying to be set on a copy of a slice from a DataFrame\n",
      "\n",
      "See the caveats in the documentation: https://pandas.pydata.org/pandas-docs/stable/user_guide/indexing.html#returning-a-view-versus-a-copy\n",
      "  return super().drop(\n"
     ]
    }
   ],
   "source": [
    "\n",
    "# I import the data\n",
    "df = Aquirer('https://bollettino.appa.tn.it/aria/opendata/csv/2021-02-23,2021-05-22/')\n",
    "df2 = df.copy()  # copy of the dataset\n",
    "\n",
    "# I prepare my data in a useful way, read the function description for further info\n",
    "# list_stat is a dict!!\n",
    "list_stat, stat_names = sh.Station_Classifier(df)\n",
    "\n",
    "# I normalize the U.M. of the densities, thus uniforming them to the value of ug/cm\n",
    "for col in stat_names:\n",
    "    sh.UM_Normalizer(list_stat[col.item()])"
   ]
  },
  {
   "cell_type": "code",
   "execution_count": 3,
   "id": "ec3c9fbb",
   "metadata": {
    "scrolled": true
   },
   "outputs": [
    {
     "name": "stdout",
     "output_type": "stream",
     "text": [
      "      Inquinante        Data  Ora Valore\n",
      "52728       PM10  2021-02-23    1     13\n",
      "52729       PM10  2021-02-23    2     14\n",
      "52730       PM10  2021-02-23    3     13\n",
      "52731       PM10  2021-02-23    4     13\n",
      "52732       PM10  2021-02-23    5     13\n",
      "...          ...         ...  ...    ...\n",
      "59118      Ozono  2021-05-22   20     96\n",
      "59119      Ozono  2021-05-22   21     95\n",
      "59120      Ozono  2021-05-22   22     98\n",
      "59121      Ozono  2021-05-22   23     98\n",
      "59122      Ozono  2021-05-22   24     97\n",
      "\n",
      "[6395 rows x 4 columns]\n",
      "[0, 20.0, 35.0, 50.0, 100.0, inf]\n",
      "0        42\n",
      "1        39\n",
      "2        34\n",
      "3        29\n",
      "4        26\n",
      "         ..\n",
      "10583     1\n",
      "10584     1\n",
      "10585     1\n",
      "10586     1\n",
      "10587     1\n",
      "Name: Valore, Length: 10588, dtype: object\n"
     ]
    },
    {
     "ename": "TypeError",
     "evalue": "'<' not supported between instances of 'float' and 'str'",
     "output_type": "error",
     "traceback": [
      "\u001b[1;31m---------------------------------------------------------------------------\u001b[0m",
      "\u001b[1;31mTypeError\u001b[0m                                 Traceback (most recent call last)",
      "\u001b[1;32m<ipython-input-3-6ff475c9de26>\u001b[0m in \u001b[0;36m<module>\u001b[1;34m\u001b[0m\n\u001b[0;32m      6\u001b[0m \u001b[0mprint\u001b[0m\u001b[1;33m(\u001b[0m\u001b[0mlist_stat\u001b[0m\u001b[1;33m[\u001b[0m\u001b[0mcol\u001b[0m\u001b[1;33m.\u001b[0m\u001b[0mitem\u001b[0m\u001b[1;33m(\u001b[0m\u001b[1;33m)\u001b[0m\u001b[1;33m]\u001b[0m\u001b[1;33m)\u001b[0m\u001b[1;33m\u001b[0m\u001b[1;33m\u001b[0m\u001b[0m\n\u001b[0;32m      7\u001b[0m \u001b[1;32mfor\u001b[0m \u001b[0mcol\u001b[0m \u001b[1;32min\u001b[0m \u001b[0mstat_names\u001b[0m\u001b[1;33m:\u001b[0m\u001b[1;33m\u001b[0m\u001b[1;33m\u001b[0m\u001b[0m\n\u001b[1;32m----> 8\u001b[1;33m     list_stat[col.item()] = air_cataloguer(df=list_stat[col.item()],\n\u001b[0m\u001b[0;32m      9\u001b[0m                                            pollutants=sh.pollutants_acronym(sh.pollutants_names(list_stat[col.item()])))\n",
      "\u001b[1;32m~\\PycharmProjects\\Tesi\\threshold.py\u001b[0m in \u001b[0;36mair_cataloguer\u001b[1;34m(df, pollutants)\u001b[0m\n\u001b[0;32m     70\u001b[0m         \u001b[0mprint\u001b[0m\u001b[1;33m(\u001b[0m\u001b[0mbins\u001b[0m\u001b[1;33m)\u001b[0m\u001b[1;33m\u001b[0m\u001b[1;33m\u001b[0m\u001b[0m\n\u001b[0;32m     71\u001b[0m         \u001b[0mprint\u001b[0m\u001b[1;33m(\u001b[0m\u001b[0mdf\u001b[0m\u001b[1;33m[\u001b[0m\u001b[1;34m\"Valore\"\u001b[0m\u001b[1;33m]\u001b[0m\u001b[1;33m)\u001b[0m\u001b[1;33m\u001b[0m\u001b[1;33m\u001b[0m\u001b[0m\n\u001b[1;32m---> 72\u001b[1;33m         \u001b[0mdf\u001b[0m\u001b[1;33m[\u001b[0m\u001b[1;34m\"Livello Inquinanti\"\u001b[0m\u001b[1;33m]\u001b[0m \u001b[1;33m=\u001b[0m \u001b[0mpd\u001b[0m\u001b[1;33m.\u001b[0m\u001b[0mcut\u001b[0m\u001b[1;33m(\u001b[0m\u001b[0mnp\u001b[0m\u001b[1;33m.\u001b[0m\u001b[0marray\u001b[0m\u001b[1;33m(\u001b[0m\u001b[0mdf\u001b[0m\u001b[1;33m[\u001b[0m\u001b[1;34m\"Valore\"\u001b[0m\u001b[1;33m]\u001b[0m\u001b[1;33m)\u001b[0m\u001b[1;33m,\u001b[0m \u001b[0mbins\u001b[0m\u001b[1;33m,\u001b[0m \u001b[0mlabels\u001b[0m\u001b[1;33m=\u001b[0m\u001b[0mdict\u001b[0m\u001b[1;33m[\u001b[0m\u001b[0mpol\u001b[0m\u001b[1;33m]\u001b[0m\u001b[1;33m.\u001b[0m\u001b[0mloc\u001b[0m\u001b[1;33m[\u001b[0m\u001b[1;33m:\u001b[0m\u001b[1;33m,\u001b[0m \u001b[1;34m\"name\"\u001b[0m\u001b[1;33m]\u001b[0m\u001b[1;33m)\u001b[0m\u001b[1;33m\u001b[0m\u001b[1;33m\u001b[0m\u001b[0m\n\u001b[0m\u001b[0;32m     73\u001b[0m \u001b[1;33m\u001b[0m\u001b[0m\n\u001b[0;32m     74\u001b[0m     \u001b[1;32mreturn\u001b[0m \u001b[0mdf\u001b[0m\u001b[1;33m\u001b[0m\u001b[1;33m\u001b[0m\u001b[0m\n",
      "\u001b[1;32m~\\anaconda3\\envs\\Tesi\\lib\\site-packages\\pandas\\core\\reshape\\tile.py\u001b[0m in \u001b[0;36mcut\u001b[1;34m(x, bins, right, labels, retbins, precision, include_lowest, duplicates, ordered)\u001b[0m\n\u001b[0;32m    271\u001b[0m             \u001b[1;32mraise\u001b[0m \u001b[0mValueError\u001b[0m\u001b[1;33m(\u001b[0m\u001b[1;34m\"bins must increase monotonically.\"\u001b[0m\u001b[1;33m)\u001b[0m\u001b[1;33m\u001b[0m\u001b[1;33m\u001b[0m\u001b[0m\n\u001b[0;32m    272\u001b[0m \u001b[1;33m\u001b[0m\u001b[0m\n\u001b[1;32m--> 273\u001b[1;33m     fac, bins = _bins_to_cuts(\n\u001b[0m\u001b[0;32m    274\u001b[0m         \u001b[0mx\u001b[0m\u001b[1;33m,\u001b[0m\u001b[1;33m\u001b[0m\u001b[1;33m\u001b[0m\u001b[0m\n\u001b[0;32m    275\u001b[0m         \u001b[0mbins\u001b[0m\u001b[1;33m,\u001b[0m\u001b[1;33m\u001b[0m\u001b[1;33m\u001b[0m\u001b[0m\n",
      "\u001b[1;32m~\\anaconda3\\envs\\Tesi\\lib\\site-packages\\pandas\\core\\reshape\\tile.py\u001b[0m in \u001b[0;36m_bins_to_cuts\u001b[1;34m(x, bins, right, labels, precision, include_lowest, dtype, duplicates, ordered)\u001b[0m\n\u001b[0;32m    405\u001b[0m \u001b[1;33m\u001b[0m\u001b[0m\n\u001b[0;32m    406\u001b[0m     \u001b[0mside\u001b[0m \u001b[1;33m=\u001b[0m \u001b[1;34m\"left\"\u001b[0m \u001b[1;32mif\u001b[0m \u001b[0mright\u001b[0m \u001b[1;32melse\u001b[0m \u001b[1;34m\"right\"\u001b[0m\u001b[1;33m\u001b[0m\u001b[1;33m\u001b[0m\u001b[0m\n\u001b[1;32m--> 407\u001b[1;33m     \u001b[0mids\u001b[0m \u001b[1;33m=\u001b[0m \u001b[0mensure_int64\u001b[0m\u001b[1;33m(\u001b[0m\u001b[0mbins\u001b[0m\u001b[1;33m.\u001b[0m\u001b[0msearchsorted\u001b[0m\u001b[1;33m(\u001b[0m\u001b[0mx\u001b[0m\u001b[1;33m,\u001b[0m \u001b[0mside\u001b[0m\u001b[1;33m=\u001b[0m\u001b[0mside\u001b[0m\u001b[1;33m)\u001b[0m\u001b[1;33m)\u001b[0m\u001b[1;33m\u001b[0m\u001b[1;33m\u001b[0m\u001b[0m\n\u001b[0m\u001b[0;32m    408\u001b[0m \u001b[1;33m\u001b[0m\u001b[0m\n\u001b[0;32m    409\u001b[0m     \u001b[1;32mif\u001b[0m \u001b[0minclude_lowest\u001b[0m\u001b[1;33m:\u001b[0m\u001b[1;33m\u001b[0m\u001b[1;33m\u001b[0m\u001b[0m\n",
      "\u001b[1;31mTypeError\u001b[0m: '<' not supported between instances of 'float' and 'str'"
     ]
    }
   ],
   "source": [
    "from threshold import air_cataloguer\n",
    "# I assign each pollutant level to the respective measurment\n",
    "pollutants = [\"CO\", \"NO2\", \"PM10\", \"PM2_5\", \"O3\", \"SO2\"]\n",
    "# first i perform a subroutine to get the right acronym to run efficiently the main programme\n",
    "\n",
    "print(list_stat[col.item()])\n",
    "for col in stat_names:\n",
    "    list_stat[col.item()] = air_cataloguer(df=list_stat[col.item()],\n",
    "                                           pollutants=sh.pollutants_acronym(sh.pollutants_names(list_stat[col.item()])))\n"
   ]
  },
  {
   "cell_type": "code",
   "execution_count": null,
   "id": "164687d3",
   "metadata": {},
   "outputs": [],
   "source": [
    "# I perform a first level EDA\n",
    "profiles = {}\n",
    "for col in stat_names:\n",
    "    # profiles[col.item()] = ProfileReport(list_stat[col.item()], title=col.item())\n",
    "    # profiles[col.item()].to_file(\"Profile_{0}.html\".format(col.item()))\n",
    "    print(\"Questa stazione è:\", col.item())\n",
    "    print(list_stat[col.item()])\n",
    "\n",
    "# I split train/test\n",
    "for col in stat_names:\n",
    "    list_stat[col.item() + \"train\"], list_stat[col.item() + \"test\"] = train_test_split(list_stat[col.item()])\n",
    "\n",
    "# let's start with the first algoritm"
   ]
  },
  {
   "cell_type": "code",
   "execution_count": null,
   "id": "67c8a675",
   "metadata": {},
   "outputs": [],
   "source": [
    "1>float(\"inf\")"
   ]
  },
  {
   "cell_type": "code",
   "execution_count": 5,
   "id": "60348c7b",
   "metadata": {},
   "outputs": [
    {
     "name": "stdout",
     "output_type": "stream",
     "text": [
      "Object `pd.DataFrame.cut` not found.\n"
     ]
    }
   ],
   "source": [
    "?pd.DataFrame.cut"
   ]
  },
  {
   "cell_type": "code",
   "execution_count": null,
   "id": "88c9bfad",
   "metadata": {},
   "outputs": [],
   "source": []
  },
  {
   "cell_type": "code",
   "execution_count": null,
   "id": "c6b73da3",
   "metadata": {},
   "outputs": [],
   "source": []
  }
 ],
 "metadata": {
  "kernelspec": {
   "display_name": "Python 3",
   "language": "python",
   "name": "python3"
  },
  "language_info": {
   "codemirror_mode": {
    "name": "ipython",
    "version": 3
   },
   "file_extension": ".py",
   "mimetype": "text/x-python",
   "name": "python",
   "nbconvert_exporter": "python",
   "pygments_lexer": "ipython3",
   "version": "3.9.4"
  }
 },
 "nbformat": 4,
 "nbformat_minor": 5
}
